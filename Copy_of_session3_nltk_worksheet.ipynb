{
  "cells": [
    {
      "cell_type": "markdown",
      "metadata": {
        "id": "view-in-github",
        "colab_type": "text"
      },
      "source": [
        "<a href=\"https://colab.research.google.com/github/JaNiAr2/Week3/blob/main/Copy_of_session3_nltk_worksheet.ipynb\" target=\"_parent\"><img src=\"https://colab.research.google.com/assets/colab-badge.svg\" alt=\"Open In Colab\"/></a>"
      ]
    },
    {
      "cell_type": "markdown",
      "id": "f6603cae",
      "metadata": {
        "id": "f6603cae"
      },
      "source": [
        "\n",
        "# 📝 Python for Public Policy — Session 3 Worksheet  \n",
        "**Theme:** Text Analysis with NLTK (Inaugural Speeches or Your Own `.txt`)\n",
        "\n",
        "Use this notebook during the 60‑minute student-driven block. **No presentations** at the end.  \n",
        "You may analyze an NLTK inaugural speech **or** upload your own plain text file (`.txt`).\n",
        "\n",
        "**Timing guide:**  \n",
        "- Part A: 10 min · Part B: 10 min · Part C: 10 min · Part D: 10 min · Part E: 10 min · Part F: 10 min\n"
      ]
    },
    {
      "cell_type": "markdown",
      "id": "f5a58467",
      "metadata": {
        "id": "f5a58467"
      },
      "source": [
        "\n",
        "## Part 0 — Setup (run once)\n",
        "Upgrade NLTK (Colab often pins an older version) and download the datasets we need.\n"
      ]
    },
    {
      "cell_type": "code",
      "execution_count": null,
      "id": "68206010",
      "metadata": {
        "id": "68206010",
        "outputId": "d90544dc-125f-4bcd-bcf9-65eb4d7897a3",
        "colab": {
          "base_uri": "https://localhost:8080/"
        }
      },
      "outputs": [
        {
          "output_type": "stream",
          "name": "stdout",
          "text": [
            "NLTK version: 3.9.2\n"
          ]
        }
      ],
      "source": [
        "\n",
        "# We upgrade NLTK to the latest version so functions and data work as expected.\n",
        "!pip -q install -U nltk\n",
        "\n",
        "# Now we import nltk and download only the small packages we need for this session.\n",
        "import nltk\n",
        "needed = [\"punkt_tab\",           # tokenizer (splits text into words)\n",
        "          \"stopwords\",       # list of common words to remove (the, and, is, ...)\n",
        "          \"wordnet\",         # lexical database used for lemmatization (getting word roots)\n",
        "          \"averaged_perceptron_tagger_eng\",  # part-of-speech tagger (N/V/Adj/Adv)\n",
        "          \"inaugural\"]       # a small corpus of U.S. inaugural addresses\n",
        "for pkg in needed:\n",
        "    nltk.download(pkg, quiet=True) # no status text printed - just downloads\n",
        "\n",
        "print(\"NLTK version:\", nltk.__version__)\n"
      ]
    },
    {
      "cell_type": "markdown",
      "id": "5b9e4e1d",
      "metadata": {
        "id": "5b9e4e1d"
      },
      "source": [
        "\n",
        "## Part A — Pick Your Text (10 min)\n",
        "Choose **one** source below.\n",
        "\n",
        "### Option 1 — Use the built-in Inaugural Speeches corpus\n"
      ]
    },
    {
      "cell_type": "markdown",
      "id": "71e8e1a3",
      "metadata": {
        "id": "71e8e1a3"
      },
      "source": [
        "\n",
        "### Option 2 — Upload your own `.txt`\n",
        "> Must be **plain text** (e.g., speech, policy memo, report). If you upload multiple files, we’ll read the first one.\n",
        "\n",
        "\n",
        "If you don’t already have a `.txt` file (like the inaugural corpus examples), you can **make one directly in Colab**.  \n",
        "This is helpful if you want to analyze text copied from a website, a PDF, or your own writing.\n",
        "\n",
        "📝 Example: paste any text (such as a news article, policy speech, or blog post) into the triple quotes below."
      ]
    },
    {
      "cell_type": "code",
      "execution_count": null,
      "id": "02ed2b83",
      "metadata": {
        "id": "02ed2b83",
        "outputId": "229c148b-d071-413c-f173-4cce8dbacec8",
        "colab": {
          "base_uri": "https://localhost:8080/"
        }
      },
      "outputs": [
        {
          "output_type": "stream",
          "name": "stdout",
          "text": [
            "✅ Saved mytext.txt\n",
            "Madam Speaker, Vice President Biden, members of Congress, distinguished guests, and fellow Americans:\n",
            "\n",
            "Our Constitution declares that from time to time, the President shall give to Congress information about the state of our union. For 220 years, our leaders have fulfilled this duty. They’ve done so during periods of prosperity and tranquility. And they’ve done so in the midst of war and depression; at moments of great strife and great struggle.\n",
            "\n",
            "It’s tempting to look back on these moments and a\n"
          ]
        }
      ],
      "source": [
        "\n",
        "# Create a plain-text file in Colab\n",
        "text = \"\"\"Madam Speaker, Vice President Biden, members of Congress, distinguished guests, and fellow Americans:\n",
        "\n",
        "Our Constitution declares that from time to time, the President shall give to Congress information about the state of our union. For 220 years, our leaders have fulfilled this duty. They’ve done so during periods of prosperity and tranquility. And they’ve done so in the midst of war and depression; at moments of great strife and great struggle.\n",
        "\n",
        "It’s tempting to look back on these moments and assume that our progress was inevitable -– that America was always destined to succeed. But when the Union was turned back at Bull Run, and the Allies first landed at Omaha Beach, victory was very much in doubt. When the market crashed on Black Tuesday, and civil rights marchers were beaten on Bloody Sunday, the future was anything but certain. These were the times that tested the courage of our convictions, and the strength of our union. And despite all our divisions and disagreements, our hesitations and our fears, America prevailed because we chose to move forward as one nation, as one people.\n",
        "\n",
        "Again, we are tested. And again, we must answer history’s call.\n",
        "\n",
        "One year ago, I took office amid two wars, an economy rocked by a severe recession, a financial system on the verge of collapse, and a government deeply in debt. Experts from across the political spectrum warned that if we did not act, we might face a second depression. So we acted -– immediately and aggressively. And one year later, the worst of the storm has passed.\n",
        "\n",
        "But the devastation remains. One in 10 Americans still cannot find work. Many businesses have shuttered. Home values have declined. Small towns and rural communities have been hit especially hard. And for those who’d already known poverty, life has become that much harder.\n",
        "\n",
        "This recession has also compounded the burdens that America’s families have been dealing with for decades –- the burden of working harder and longer for less; of being unable to save enough to retire or help kids with college.\n",
        "\n",
        "So I know the anxieties that are out there right now. They’re not new. These struggles are the reason I ran for President. These struggles are what I’ve witnessed for years in places like Elkhart, Indiana; Galesburg, Illinois. I hear about them in the letters that I read each night. The toughest to read are those written by children -– asking why they have to move from their home, asking when their mom or dad will be able to go back to work.\n",
        "\n",
        "For these Americans and so many others, change has not come fast enough. Some are frustrated; some are angry. They don’t understand why it seems like bad behavior on Wall Street is rewarded, but hard work on Main Street isn’t; or why Washington has been unable or unwilling to solve any of our problems. They’re tired of the partisanship and the shouting and the pettiness. They know we can’t afford it. Not now.\n",
        "\n",
        "So we face big and difficult challenges. And what the American people hope -– what they deserve -– is for all of us, Democrats and Republicans, to work through our differences; to overcome the numbing weight of our politics. For while the people who sent us here have different backgrounds, different stories, different beliefs, the anxieties they face are the same. The aspirations they hold are shared: a job that pays the bills; a chance to get ahead; most of all, the ability to give their children a better life.\n",
        "\n",
        "You know what else they share? They share a stubborn resilience in the face of adversity. After one of the most difficult years in our history, they remain busy building cars and teaching kids, starting businesses and going back to school. They’re coaching Little League and helping their neighbors. One woman wrote to me and said, “We are strained but hopeful, struggling but encouraged.”\n",
        "\n",
        "It’s because of this spirit -– this great decency and great strength -– that I have never been more hopeful about America’s future than I am tonight. (Applause.) Despite our hardships, our union is strong. We do not give up. We do not quit. We do not allow fear or division to break our spirit. In this new decade, it’s time the American people get a government that matches their decency; that embodies their strength. (Applause.)\n",
        "And tonight, tonight I’d like to talk about how together we can deliver on that promise.\n",
        "\n",
        "It begins with our economy.\n",
        "\n",
        "Our most urgent task upon taking office was to shore up the same banks that helped cause this crisis. It was not easy to do. And if there’s one thing that has unified Democrats and Republicans, and everybody in between, it’s that we all hated the bank bailout. I hated it — (applause.) I hated it. You hated it. It was about as popular as a root canal. (Laughter.)\n",
        "\n",
        "But when I ran for President, I promised I wouldn’t just do what was popular -– I would do what was necessary. And if we had allowed the meltdown of the financial system, unemployment might be double what it is today. More businesses would certainly have closed. More homes would have surely been lost.\n",
        "\n",
        "So I supported the last administration’s efforts to create the financial rescue program. And when we took that program over, we made it more transparent and more accountable. And as a result, the markets are now stabilized, and we’ve recovered most of the money we spent on the banks. (Applause.) Most but not all.\n",
        "\n",
        "To recover the rest, I’ve proposed a fee on the biggest banks. (Applause.) Now, I know Wall Street isn’t keen on this idea. But if these firms can afford to hand out big bonuses again, they can afford a modest fee to pay back the taxpayers who rescued them in their time of need. (Applause.)\n",
        "\n",
        "Now, as we stabilized the financial system, we also took steps to get our economy growing again, save as many jobs as possible, and help Americans who had become unemployed.\n",
        "\n",
        "That’s why we extended or increased unemployment benefits for more than 18 million Americans; made health insurance 65 percent cheaper for families who get their coverage through COBRA; and passed 25 different tax cuts.\n",
        "\n",
        "Now, let me repeat: We cut taxes. We cut taxes for 95 percent of working families. (Applause.) We cut taxes for small businesses. We cut taxes for first-time homebuyers. We cut taxes for parents trying to care for their children. We cut taxes for 8 million Americans paying for college. (Applause.)\n",
        "\n",
        "I thought I’d get some applause on that one. (Laughter and applause.)\n",
        "\n",
        "As a result, millions of Americans had more to spend on gas and food and other necessities, all of which helped businesses keep more workers. And we haven’t raised income taxes by a single dime on a single person. Not a single dime. (Applause.)\n",
        "\n",
        "Because of the steps we took, there are about two million Americans working right now who would otherwise be unemployed. (Applause.) Two hundred thousand work in construction and clean energy; 300,000 are teachers and other education workers. Tens of thousands are cops, firefighters, correctional officers, first responders. (Applause.) And we’re on track to add another one and a half million jobs to this total by the end of the year.\n",
        "\n",
        "The plan that has made all of this possible, from the tax cuts to the jobs, is the Recovery Act. (Applause.) That’s right -– the Recovery Act, also known as the stimulus bill. (Applause.) Economists on the left and the right say this bill has helped save jobs and avert disaster. But you don’t have to take their word for it. Talk to the small business in Phoenix that will triple its workforce because of the Recovery Act. Talk to the window manufacturer in Philadelphia who said he used to be skeptical about the Recovery Act, until he had to add two more work shifts just because of the business it created. Talk to the single teacher raising two kids who was told by her principal in the last week of school that because of the Recovery Act, she wouldn’t be laid off after all.\n",
        "\n",
        "There are stories like this all across America. And after two years of recession, the economy is growing again. Retirement funds have started to gain back some of their value. Businesses are beginning to invest again, and slowly some are starting to hire again.\n",
        "\n",
        "But I realize that for every success story, there are other stories, of men and women who wake up with the anguish of not knowing where their next paycheck will come from; who send out resumes week after week and hear nothing in response. That is why jobs must be our number-one focus in 2010, and that’s why I’m calling for a new jobs bill tonight. (Applause.)\n",
        "\n",
        "Now, the true engine of job creation in this country will always be America’s businesses. (Applause.) But government can create the conditions necessary for businesses to expand and hire more workers.\n",
        "\n",
        "We should start where most new jobs do –- in small businesses, companies that begin when — (applause) — companies that begin when an entrepreneur — when an entrepreneur takes a chance on a dream, or a worker decides it’s time she became her own boss. Through sheer grit and determination, these companies have weathered the recession and they’re ready to grow. But when you talk to small businessowners in places like Allentown, Pennsylvania, or Elyria, Ohio, you find out that even though banks on Wall Street are lending again, they’re mostly lending to bigger companies. Financing remains difficult for small businessowners across the country, even those that are making a profit.\n",
        "\n",
        "So tonight, I’m proposing that we take $30 billion of the money Wall Street banks have repaid and use it to help community banks give small businesses the credit they need to stay afloat. (Applause.) I’m also proposing a new small business tax credit\n",
        "-– one that will go to over one million small businesses who hire new workers or raise wages. (Applause.) While we’re at it, let’s also eliminate all capital gains taxes on small business investment, and provide a tax incentive for all large businesses and all small businesses to invest in new plants and equipment. (Applause.)\n",
        "\n",
        "Next, we can put Americans to work today building the infrastructure of tomorrow. (Applause.) From the first railroads to the Interstate Highway System, our nation has always been built to compete. There’s no reason Europe or China should have the fastest trains, or the new factories that manufacture clean energy products.\n",
        "\n",
        "Tomorrow, I’ll visit Tampa, Florida, where workers will soon break ground on a new high-speed railroad funded by the Recovery Act. (Applause.) There are projects like that all across this country that will create jobs and help move our nation’s goods, services, and information. (Applause.)\n",
        "\n",
        "We should put more Americans to work building clean energy facilities — (applause) — and give rebates to Americans who make their homes more energy-efficient, which supports clean energy jobs. (Applause.) And to encourage these and other businesses to stay within our borders, it is time to finally slash the tax breaks for companies that ship our jobs overseas, and give those tax breaks to companies that create jobs right here in the United States of America. (Applause.)\n",
        "\n",
        "Now, the House has passed a jobs bill that includes some of these steps. (Applause.) As the first order of business this year, I urge the Senate to do the same, and I know they will. (Applause.) They will. (Applause.) People are out of work. They’re hurting. They need our help. And I want a jobs bill on my desk without delay. (Applause.)\n",
        "\n",
        "But the truth is, these steps won’t make up for the seven million jobs that we’ve lost over the last two years. The only way to move to full employment is to lay a new foundation for long-term economic growth, and finally address the problems that America’s families have confronted for years.\n",
        "\n",
        "We can’t afford another so-called economic “expansion” like the one from the last decade –- what some call the “lost decade” -– where jobs grew more slowly than during any prior expansion; where the income of the average American household declined while the cost of health care and tuition reached record highs; where prosperity was built on a housing bubble and financial speculation.\n",
        "\n",
        "From the day I took office, I’ve been told that addressing our larger challenges is too ambitious; such an effort would be too contentious. I’ve been told that our political system is too gridlocked, and that we should just put things on hold for a while.\n",
        "\n",
        "For those who make these claims, I have one simple question: How long should we wait? How long should America put its future on hold? (Applause.)\n",
        "\n",
        "You see, Washington has been telling us to wait for decades, even as the problems have grown worse. Meanwhile, China is not waiting to revamp its economy. Germany is not waiting. India is not waiting. These nations — they’re not standing still. These nations aren’t playing for second place. They’re putting more emphasis on math and science. They’re rebuilding their infrastructure. They’re making serious investments in clean energy because they want those jobs. Well, I do not accept second place for the United States of America. (Applause.)\n",
        "\n",
        "As hard as it may be, as uncomfortable and contentious as the debates may become, it’s time to get serious about fixing the problems that are hampering our growth.\n",
        "\n",
        "Now, one place to start is serious financial reform. Look, I am not interested in punishing banks. I’m interested in protecting our economy. A strong, healthy financial market makes it possible for businesses to access credit and create new jobs. It channels the savings of families into investments that raise incomes. But that can only happen if we guard against the same recklessness that nearly brought down our entire economy.\n",
        "\n",
        "We need to make sure consumers and middle-class families have the information they need to make financial decisions. (Applause.) We can’t allow financial institutions, including those that take your deposits, to take risks that threaten the whole economy.\n",
        "\n",
        "Now, the House has already passed financial reform with many of these changes. (Applause.) And the lobbyists are trying to kill it. But we cannot let them win this fight. (Applause.) And if the bill that ends up on my desk does not meet the test of real reform, I will send it back until we get it right. We’ve got to get it right. (Applause.)\n",
        "\n",
        "Next, we need to encourage American innovation. Last year, we made the largest investment in basic research funding in history -– (applause) — an investment that could lead to the world’s cheapest solar cells or treatment that kills cancer cells but leaves healthy ones untouched. And no area is more ripe for such innovation than energy. You can see the results of last year’s investments in clean energy -– in the North Carolina company that will create 1,200 jobs nationwide helping to make advanced batteries; or in the California business that will put a thousand people to work making solar panels.\n",
        "\n",
        "But to create more of these clean energy jobs, we need more production, more efficiency, more incentives. And that means building a new generation of safe, clean nuclear power plants in this country. (Applause.) It means making tough decisions about opening new offshore areas for oil and gas development. (Applause.) It means continued investment in advanced biofuels and clean coal technologies. (Applause.) And, yes, it means passing a comprehensive energy and climate bill with incentives that will finally make clean energy the profitable kind of energy in America. (Applause.)\n",
        "\n",
        "I am grateful to the House for passing such a bill last year. (Applause.) And this year I’m eager to help advance the bipartisan effort in the Senate. (Applause.)\n",
        "\n",
        "I know there have been questions about whether we can afford such changes in a tough economy. I know that there are those who disagree with the overwhelming scientific evidence on climate change. But here’s the thing — even if you doubt the evidence, providing incentives for energy-efficiency and clean energy are the right thing to do for our future -– because the nation that leads the clean energy economy will be the nation that leads the global economy. And America must be that nation. (Applause.)\n",
        "\n",
        "Third, we need to export more of our goods. (Applause.) Because the more products we make and sell to other countries, the more jobs we support right here in America. (Applause.) So tonight, we set a new goal: We will double our exports over the next five years, an increase that will support two million jobs in America. (Applause.) To help meet this goal, we’re launching a National Export Initiative that will help farmers and small businesses increase their exports, and reform export controls consistent with national security. (Applause.)\n",
        "\n",
        "We have to seek new markets aggressively, just as our competitors are. If America sits on the sidelines while other nations sign trade deals, we will lose the chance to create jobs on our shores. (Applause.) But realizing those benefits also means enforcing those agreements so our trading partners play by the rules. (Applause.) And that’s why we’ll continue to shape a Doha trade agreement that opens global markets, and why we will strengthen our trade relations in Asia and with key partners like South Korea and Panama and Colombia. (Applause.)\n",
        "\n",
        "Fourth, we need to invest in the skills and education of our people. (Applause.)\n",
        "\n",
        "Now, this year, we’ve broken through the stalemate between left and right by launching a national competition to improve our schools. And the idea here is simple: Instead of rewarding failure, we only reward success. Instead of funding the status quo, we only invest in reform — reform that raises student achievement; inspires students to excel in math and science; and turns around failing schools that steal the future of too many young Americans, from rural communities to the inner city. In the 21st century, the best anti-poverty program around is a world-class education. (Applause.) And in this country, the success of our children cannot depend more on where they live than on their potential.\n",
        "\n",
        "When we renew the Elementary and Secondary Education Act, we will work with Congress to expand these reforms to all 50 states. Still, in this economy, a high school diploma no longer guarantees a good job. That’s why I urge the Senate to follow the House and pass a bill that will revitalize our community colleges, which are a career pathway to the children of so many working families. (Applause.)\n",
        "\n",
        "To make college more affordable, this bill will finally end the unwarranted taxpayer subsidies that go to banks for student loans. (Applause.) Instead, let’s take that money and give families a $10,000 tax credit for four years of college and increase Pell Grants. (Applause.) And let’s tell another one million students that when they graduate, they will be required to pay only 10 percent of their income on student loans, and all of their debt will be forgiven after 20 years –- and forgiven after 10 years if they choose a career in public service, because in the United States of America, no one should go broke because they chose to go to college. (Applause.)\n",
        "\n",
        "And by the way, it’s time for colleges and universities to get serious about cutting their own costs -– (applause) — because they, too, have a responsibility to help solve this problem.\n",
        "\n",
        "Now, the price of college tuition is just one of the burdens facing the middle class. That’s why last year I asked Vice President Biden to chair a task force on middle-class families. That’s why we’re nearly doubling the child care tax credit, and making it easier to save for retirement by giving access to every worker a retirement account and expanding the tax credit for those who start a nest egg. That’s why we’re working to lift the value of a family’s single largest investment –- their home. The steps we took last year to shore up the housing market have allowed millions of Americans to take out new loans and save an average of $1,500 on mortgage payments.\n",
        "\n",
        "This year, we will step up refinancing so that homeowners can move into more affordable mortgages. (Applause.) And it is precisely to relieve the burden on middle-class families that we still need health insurance reform. (Applause.) Yes, we do. (Applause.)\n",
        "\n",
        "Now, let’s clear a few things up. (Laughter.) I didn’t choose to tackle this issue to get some legislative victory under my belt. And by now it should be fairly obvious that I didn’t take on health care because it was good politics. (Laughter.) I took on health care because of the stories I’ve heard from Americans with preexisting conditions whose lives depend on getting coverage; patients who’ve been denied coverage; families –- even those with insurance -– who are just one illness away from financial ruin.\n",
        "\n",
        "After nearly a century of trying — Democratic administrations, Republican administrations — we are closer than ever to bringing more security to the lives of so many Americans. The approach we’ve taken would protect every American from the worst practices of the insurance industry. It would give small businesses and uninsured Americans a chance to choose an affordable health care plan in a competitive market. It would require every insurance plan to cover preventive care.\n",
        "\n",
        "And by the way, I want to acknowledge our First Lady, Michelle Obama, who this year is creating a national movement to tackle the epidemic of childhood obesity and make kids healthier. (Applause.) Thank you. She gets embarrassed. (Laughter.)\n",
        "\n",
        "Our approach would preserve the right of Americans who have insurance to keep their doctor and their plan. It would reduce costs and premiums for millions of families and businesses. And according to the Congressional Budget Office -– the independent organization that both parties have cited as the official scorekeeper for Congress –- our approach would bring down the deficit by as much as $1 trillion over the next two decades. (Applause.)\n",
        "\n",
        "Still, this is a complex issue, and the longer it was debated, the more skeptical people became. I take my share of the blame for not explaining it more clearly to the American people. And I know that with all the lobbying and horse-trading, the process left most Americans wondering, “What’s in it for me?”\n",
        "\n",
        "But I also know this problem is not going away. By the time I’m finished speaking tonight, more Americans will have lost their health insurance. Millions will lose it this year. Our deficit will grow. Premiums will go up. Patients will be denied the care they need. Small business owners will continue to drop coverage altogether. I will not walk away from these Americans, and neither should the people in this chamber. (Applause.)\n",
        "\n",
        "So, as temperatures cool, I want everyone to take another look at the plan we’ve proposed. There’s a reason why many doctors, nurses, and health care experts who know our system best consider this approach a vast improvement over the status quo. But if anyone from either party has a better approach that will bring down premiums, bring down the deficit, cover the uninsured, strengthen Medicare for seniors, and stop insurance company abuses, let me know. (Applause.) Let me know. Let me know. (Applause.) I’m eager to see it.\n",
        "\n",
        "Here’s what I ask Congress, though: Don’t walk away from reform. Not now. Not when we are so close. Let us find a way to come together and finish the job for the American people. (Applause.) Let’s get it done. Let’s get it done. (Applause.)\n",
        "\n",
        "Now, even as health care reform would reduce our deficit, it’s not enough to dig us out of a massive fiscal hole in which we find ourselves. It’s a challenge that makes all others that much harder to solve, and one that’s been subject to a lot of political posturing. So let me start the discussion of government spending by setting the record straight.\n",
        "\n",
        "At the beginning of the last decade, the year 2000, America had a budget surplus of over $200 billion. (Applause.) By the time I took office, we had a one-year deficit of over $1 trillion and projected deficits of $8 trillion over the next decade. Most of this was the result of not paying for two wars, two tax cuts, and an expensive prescription drug program. On top of that, the effects of the recession put a $3 trillion hole in our budget. All this was before I walked in the door. (Laughter and applause.)\n",
        "\n",
        "Now — just stating the facts. Now, if we had taken office in ordinary times, I would have liked nothing more than to start bringing down the deficit. But we took office amid a crisis. And our efforts to prevent a second depression have added another $1 trillion to our national debt. That, too, is a fact.\n",
        "\n",
        "I’m absolutely convinced that was the right thing to do. But families across the country are tightening their belts and making tough decisions. The federal government should do the same. (Applause.) So tonight, I’m proposing specific steps to pay for the trillion dollars that it took to rescue the economy last year.\n",
        "\n",
        "Starting in 2011, we are prepared to freeze government spending for three years. (Applause.) Spending related to our national security, Medicare, Medicaid, and Social Security will not be affected. But all other discretionary government programs will. Like any cash-strapped family, we will work within a budget to invest in what we need and sacrifice what we don’t. And if I have to enforce this discipline by veto, I will. (Applause.)\n",
        "\n",
        "We will continue to go through the budget, line by line, page by page, to eliminate programs that we can’t afford and don’t work. We’ve already identified $20 billion in savings for next year. To help working families, we’ll extend our middle-class tax cuts. But at a time of record deficits, we will not continue tax cuts for oil companies, for investment fund managers, and for those making over $250,000 a year. We just can’t afford it. (Applause.)\n",
        "\n",
        "Now, even after paying for what we spent on my watch, we’ll still face the massive deficit we had when I took office. More importantly, the cost of Medicare, Medicaid, and Social Security will continue to skyrocket. That’s why I’ve called for a bipartisan fiscal commission, modeled on a proposal by Republican Judd Gregg and Democrat Kent Conrad. (Applause.) This can’t be one of those Washington gimmicks that lets us pretend we solved a problem. The commission will have to provide a specific set of solutions by a certain deadline.\n",
        "\n",
        "Now, yesterday, the Senate blocked a bill that would have created this commission. So I’ll issue an executive order that will allow us to go forward, because I refuse to pass this problem on to another generation of Americans. (Applause.) And when the vote comes tomorrow, the Senate should restore the pay-as-you-go law that was a big reason for why we had record surpluses in the 1990s. (Applause.)\n",
        "\n",
        "Now, I know that some in my own party will argue that we can’t address the deficit or freeze government spending when so many are still hurting. And I agree — which is why this freeze won’t take effect until next year — (laughter) — when the economy is stronger. That’s how budgeting works. (Laughter and applause.) But understand –- understand if we don’t take meaningful steps to rein in our debt, it could damage our markets, increase the cost of borrowing, and jeopardize our recovery -– all of which would have an even worse effect on our job growth and family incomes.\n",
        "\n",
        "From some on the right, I expect we’ll hear a different argument -– that if we just make fewer investments in our people, extend tax cuts including those for the wealthier Americans, eliminate more regulations, maintain the status quo on health care, our deficits will go away. The problem is that’s what we did for eight years. (Applause.) That’s what helped us into this crisis. It’s what helped lead to these deficits. We can’t do it again.\n",
        "\n",
        "Rather than fight the same tired battles that have dominated Washington for decades, it’s time to try something new. Let’s invest in our people without leaving them a mountain of debt. Let’s meet our responsibility to the citizens who sent us here. Let’s try common sense. (Laughter.) A novel concept.\n",
        "\n",
        "To do that, we have to recognize that we face more than a deficit of dollars right now. We face a deficit of trust -– deep and corrosive doubts about how Washington works that have been growing for years. To close that credibility gap we have to take action on both ends of Pennsylvania Avenue — to end the outsized influence of lobbyists; to do our work openly; to give our people the government they deserve. (Applause.)\n",
        "\n",
        "That’s what I came to Washington to do. That’s why -– for the first time in history –- my administration posts on our White House visitors online. That’s why we’ve excluded lobbyists from policymaking jobs, or seats on federal boards and commissions.\n",
        "\n",
        "But we can’t stop there. It’s time to require lobbyists to disclose each contact they make on behalf of a client with my administration or with Congress. It’s time to put strict limits on the contributions that lobbyists give to candidates for federal office.\n",
        "\n",
        "With all due deference to separation of powers, last week the Supreme Court reversed a century of law that I believe will open the floodgates for special interests –- including foreign corporations –- to spend without limit in our elections. (Applause.) I don’t think American elections should be bankrolled by America’s most powerful interests, or worse, by foreign entities. (Applause.) They should be decided by the American people. And I’d urge Democrats and Republicans to pass a bill that helps to correct some of these problems.\n",
        "\n",
        "I’m also calling on Congress to continue down the path of earmark reform. Applause.) Democrats and Republicans. (Applause.) Democrats and Republicans. You’ve trimmed some of this spending, you’ve embraced some meaningful change. But restoring the public trust demands more. For example, some members of Congress post some earmark requests online. (Applause.) Tonight, I’m calling on Congress to publish all earmark requests on a single Web site before there’s a vote, so that the American people can see how their money is being spent. (Applause.)\n",
        "\n",
        "Of course, none of these reforms will even happen if we don’t also reform how we work with one another. Now, I’m not naïve. I never thought that the mere fact of my election would usher in peace and harmony — (laughter) — and some post-partisan era. I knew that both parties have fed divisions that are deeply entrenched. And on some issues, there are simply philosophical differences that will always cause us to part ways. These disagreements, about the role of government in our lives, about our national priorities and our national security, they’ve been taking place for over 200 years. They’re the very essence of our democracy.\n",
        "\n",
        "But what frustrates the American people is a Washington where every day is Election Day. We can’t wage a perpetual campaign where the only goal is to see who can get the most embarrassing headlines about the other side -– a belief that if you lose, I win. Neither party should delay or obstruct every single bill just because they can. The confirmation of — (applause) — I’m speaking to both parties now. The confirmation of well-qualified public servants shouldn’t be held hostage to the pet projects or grudges of a few individual senators. (Applause.)\n",
        "\n",
        "Washington may think that saying anything about the other side, no matter how false, no matter how malicious, is just part of the game. But it’s precisely such politics that has stopped either party from helping the American people. Worse yet, it’s sowing further division among our citizens, further distrust in our government.\n",
        "\n",
        "So, no, I will not give up on trying to change the tone of our politics. I know it’s an election year. And after last week, it’s clear that campaign fever has come even earlier than usual. But we still need to govern.\n",
        "\n",
        "To Democrats, I would remind you that we still have the largest majority in decades, and the people expect us to solve problems, not run for the hills. (Applause.) And if the Republican leadership is going to insist that 60 votes in the Senate are required to do any business at all in this town — a supermajority — then the responsibility to govern is now yours as well. (Applause.) Just saying no to everything may be good short-term politics, but it’s not leadership. We were sent here to serve our citizens, not our ambitions. (Applause.) So let’s show the American people that we can do it together. (Applause.)\n",
        "\n",
        "This week, I’ll be addressing a meeting of the House Republicans. I’d like to begin monthly meetings with both Democratic and Republican leadership. I know you can’t wait. (Laughter.)\n",
        "\n",
        "Throughout our history, no issue has united this country more than our security. Sadly, some of the unity we felt after 9/11 has dissipated. We can argue all we want about who’s to blame for this, but I’m not interested in re-litigating the past. I know that all of us love this country. All of us are committed to its defense. So let’s put aside the schoolyard taunts about who’s tough. Let’s reject the false choice between protecting our people and upholding our values. Let’s leave behind the fear and division, and do what it takes to defend our nation and forge a more hopeful future — for America and for the world. (Applause.)\n",
        "\n",
        "That’s the work we began last year. Since the day I took office, we’ve renewed our focus on the terrorists who threaten our nation. We’ve made substantial investments in our homeland security and disrupted plots that threatened to take American lives. We are filling unacceptable gaps revealed by the failed Christmas attack, with better airline security and swifter action on our intelligence. We’ve prohibited torture and strengthened partnerships from the Pacific to South Asia to the Arabian Peninsula. And in the last year, hundreds of al Qaeda’s fighters and affiliates, including many senior leaders, have been captured or killed — far more than in 2008.\n",
        "\n",
        "And in Afghanistan, we’re increasing our troops and training Afghan security forces so they can begin to take the lead in July of 2011, and our troops can begin to come home. (Applause.) We will reward good governance, work to reduce corruption, and support the rights of all Afghans — men and women alike. (Applause.) We’re joined by allies and partners who have increased their own commitments, and who will come together tomorrow in London to reaffirm our common purpose. There will be difficult days ahead. But I am absolutely confident we will succeed.\n",
        "\n",
        "As we take the fight to al Qaeda, we are responsibly leaving Iraq to its people. As a candidate, I promised that I would end this war, and that is what I am doing as President. We will have all of our combat troops out of Iraq by the end of this August. (Applause.) We will support the Iraqi government — we will support the Iraqi government as they hold elections, and we will continue to partner with the Iraqi people to promote regional peace and prosperity. But make no mistake: This war is ending, and all of our troops are coming home. (Applause.)\n",
        "\n",
        "Tonight, all of our men and women in uniform — in Iraq, in Afghanistan, and around the world –- they have to know that we — that they have our respect, our gratitude, our full support. And just as they must have the resources they need in war, we all have a responsibility to support them when they come home. (Applause.) That’s why we made the largest increase in investments for veterans in decades — last year. (Applause.) That’s why we’re building a 21st century VA. And that’s why Michelle has joined with Jill Biden to forge a national commitment to support military families. (Applause.)\n",
        "\n",
        "Now, even as we prosecute two wars, we’re also confronting perhaps the greatest danger to the American people -– the threat of nuclear weapons. I’ve embraced the vision of John F. Kennedy and Ronald Reagan through a strategy that reverses the spread of these weapons and seeks a world without them. To reduce our stockpiles and launchers, while ensuring our deterrent, the United States and Russia are completing negotiations on the farthest-reaching arms control treaty in nearly two decades. (Applause.) And at April’s Nuclear Security Summit, we will bring 44 nations together here in Washington, D.C. behind a clear goal: securing all vulnerable nuclear materials around the world in four years, so that they never fall into the hands of terrorists. (Applause.)\n",
        "\n",
        "Now, these diplomatic efforts have also strengthened our hand in dealing with those nations that insist on violating international agreements in pursuit of nuclear weapons. That’s why North Korea now faces increased isolation, and stronger sanctions –- sanctions that are being vigorously enforced. That’s why the international community is more united, and the Islamic Republic of Iran is more isolated. And as Iran’s leaders continue to ignore their obligations, there should be no doubt: They, too, will face growing consequences. That is a promise. (Applause.)\n",
        "\n",
        "That’s the leadership that we are providing –- engagement that advances the common security and prosperity of all people. We’re working through the G20 to sustain a lasting global recovery. We’re working with Muslim communities around the world to promote science and education and innovation. We have gone from a bystander to a leader in the fight against climate change. We’re helping developing countries to feed themselves, and continuing the fight against HIV/AIDS. And we are launching a new initiative that will give us the capacity to respond faster and more effectively to bioterrorism or an infectious disease -– a plan that will counter threats at home and strengthen public health abroad.\n",
        "\n",
        "As we have for over 60 years, America takes these actions because our destiny is connected to those beyond our shores. But we also do it because it is right. That’s why, as we meet here tonight, over 10,000 Americans are working with many nations to help the people of Haiti recover and rebuild. (Applause.) That’s why we stand with the girl who yearns to go to school in Afghanistan; why we support the human rights of the women marching through the streets of Iran; why we advocate for the young man denied a job by corruption in Guinea. For America must always stand on the side of freedom and human dignity. (Applause.) Always. (Applause.)\n",
        "\n",
        "Abroad, America’s greatest source of strength has always been our ideals. The same is true at home. We find unity in our incredible diversity, drawing on the promise enshrined in our Constitution: the notion that we’re all created equal; that no matter who you are or what you look like, if you abide by the law you should be protected by it; if you adhere to our common values you should be treated no different than anyone else.\n",
        "\n",
        "We must continually renew this promise. My administration has a Civil Rights Division that is once again prosecuting civil rights violations and employment discrimination. (Applause.) We finally strengthened our laws to protect against crimes driven by hate. (Applause.) This year, I will work with Congress and our military to finally repeal the law that denies gay Americans the right to serve the country they love because of who they are. (Applause.) It’s the right thing to do. (Applause.)\n",
        "\n",
        "We’re going to crack down on violations of equal pay laws -– so that women get equal pay for an equal day’s work. (Applause.) And we should continue the work of fixing our broken immigration system -– to secure our borders and enforce our laws, and ensure that everyone who plays by the rules can contribute to our economy and enrich our nation. (Applause.)\n",
        "\n",
        "In the end, it’s our ideals, our values that built America — values that allowed us to forge a nation made up of immigrants from every corner of the globe; values that drive our citizens still. Every day, Americans meet their responsibilities to their families and their employers. Time and again, they lend a hand to their neighbors and give back to their country. They take pride in their labor, and are generous in spirit. These aren’t Republican values or Democratic values that they’re living by; business values or labor values. They’re American values.\n",
        "\n",
        "Unfortunately, too many of our citizens have lost faith that our biggest institutions -– our corporations, our media, and, yes, our government –- still reflect these same values. Each of these institutions are full of honorable men and women doing important work that helps our country prosper. But each time a CEO rewards himself for failure, or a banker puts the rest of us at risk for his own selfish gain, people’s doubts grow. Each time lobbyists game the system or politicians tear each other down instead of lifting this country up, we lose faith. The more that TV pundits reduce serious debates to silly arguments, big issues into sound bites, our citizens turn away.\n",
        "\n",
        "No wonder there’s so much cynicism out there. No wonder there’s so much disappointment.\n",
        "\n",
        "I campaigned on the promise of change –- change we can believe in, the slogan went. And right now, I know there are many Americans who aren’t sure if they still believe we can change –- or that I can deliver it.\n",
        "\n",
        "But remember this –- I never suggested that change would be easy, or that I could do it alone. Democracy in a nation of 300 million people can be noisy and messy and complicated. And when you try to do big things and make big changes, it stirs passions and controversy. That’s just how it is.\n",
        "\n",
        "Those of us in public office can respond to this reality by playing it safe and avoid telling hard truths and pointing fingers. We can do what’s necessary to keep our poll numbers high, and get through the next election instead of doing what’s best for the next generation.\n",
        "\n",
        "But I also know this: If people had made that decision 50 years ago, or 100 years ago, or 200 years ago, we wouldn’t be here tonight. The only reason we are here is because generations of Americans were unafraid to do what was hard; to do what was needed even when success was uncertain; to do what it took to keep the dream of this nation alive for their children and their grandchildren.\n",
        "\n",
        "Our administration has had some political setbacks this year, and some of them were deserved. But I wake up every day knowing that they are nothing compared to the setbacks that families all across this country have faced this year. And what keeps me going -– what keeps me fighting -– is that despite all these setbacks, that spirit of determination and optimism, that fundamental decency that has always been at the core of the American people, that lives on.\n",
        "\n",
        "It lives on in the struggling small business owner who wrote to me of his company, “None of us,” he said, \"…are willing to consider, even slightly, that we might fail.”\n",
        "\n",
        "It lives on in the woman who said that even though she and her neighbors have felt the pain of recession, “We are strong. We are resilient. We are American.”\n",
        "\n",
        "It lives on in the 8-year-old boy in Louisiana, who just sent me his allowance and asked if I would give it to the people of Haiti.\n",
        "\n",
        "And it lives on in all the Americans who’ve dropped everything to go someplace they’ve never been and pull people they’ve never known from the rubble, prompting chants of “U.S.A.! U.S.A.! U.S.A!” when another life was saved.\n",
        "\n",
        "The spirit that has sustained this nation for more than two centuries lives on in you, its people. We have finished a difficult year. We have come through a difficult decade. But a new year has come. A new decade stretches before us. We don’t quit. I don’t quit. (Applause.) Let’s seize this moment — to start anew, to carry the dream forward, and to strengthen our union once more. (Applause.)\n",
        "\n",
        "Thank you. God bless you. And God bless the United States of America. (Applause.)\"\"\"\n",
        "\n",
        "# Write the text into a .txt file\n",
        "with open(\"mytext.txt\", \"w\", encoding=\"utf-8\") as f:\n",
        "    f.write(text)\n",
        "\n",
        "print(\"✅ Saved mytext.txt\")\n",
        "\n",
        "# Load your saved .txt file\n",
        "with open(\"mytext.txt\", encoding=\"utf-8\") as f:\n",
        "    raw = f.read()\n",
        "\n",
        "print(raw[:500])  # print first 500 characters\n",
        "\n"
      ]
    },
    {
      "cell_type": "markdown",
      "id": "f60cb2b1",
      "metadata": {
        "id": "f60cb2b1"
      },
      "source": [
        "\n",
        "**Q:** Which text did you choose and why? *(Write a 1–2 sentence note below.)*\n"
      ]
    },
    {
      "cell_type": "code",
      "execution_count": null,
      "id": "b98b454a",
      "metadata": {
        "id": "b98b454a",
        "outputId": "244ed5fa-1d4f-4ecb-b3cb-7f92ef2c02b9",
        "colab": {
          "base_uri": "https://localhost:8080/"
        }
      },
      "outputs": [
        {
          "output_type": "stream",
          "name": "stdout",
          "text": [
            "\n",
            "(Explain your choice here.)\n",
            "\n"
          ]
        }
      ],
      "source": [
        "\n",
        "# Your short reflection:\n",
        "choice_note = \"\"\"\n",
        "(Explain your choice here.)\n",
        "\"\"\"\n",
        "print(choice_note)\n"
      ]
    },
    {
      "cell_type": "markdown",
      "id": "7fc2e3e5",
      "metadata": {
        "id": "7fc2e3e5"
      },
      "source": [
        "\n",
        "## Part B — Tokenize & Explore (10 min)\n",
        "Lowercase and keep only alphabetic tokens (drop punctuation/numbers) for a quick clean view.\n"
      ]
    },
    {
      "cell_type": "code",
      "execution_count": null,
      "id": "ea7ba1f7",
      "metadata": {
        "id": "ea7ba1f7",
        "outputId": "f926fe19-0ecb-4a6a-d6da-843773949104",
        "colab": {
          "base_uri": "https://localhost:8080/"
        }
      },
      "outputs": [
        {
          "output_type": "execute_result",
          "data": {
            "text/plain": [
              "(7497, ['madam', 'speaker', 'vice', 'president', 'biden'])"
            ]
          },
          "metadata": {},
          "execution_count": 43
        }
      ],
      "source": [
        "\n",
        "from nltk.tokenize import word_tokenize\n",
        "\n",
        "# Tokenize: split into tokens, lowercase them, keep alphabetic tokens only\n",
        "tokens = [w.lower() for w in word_tokenize(raw) if w.isalpha()]\n",
        "len(tokens), tokens[:5]\n"
      ]
    },
    {
      "cell_type": "code",
      "source": [
        "import re\n",
        "import nltk\n",
        "from nltk.corpus import stopwords, wordnet\n",
        "from nltk.stem import WordNetLemmatizer\n",
        "from nltk import pos_tag, FreqDist\n",
        "from nltk.tokenize import RegexpTokenizer\n",
        "\n",
        "def wordnet_pos(tag):\n",
        "    return {\"J\": wordnet.ADJ, \"N\": wordnet.NOUN, \"V\": wordnet.VERB, \"R\": wordnet.ADV}.get(tag[0], wordnet.NOUN)\n",
        "\n",
        "# 1) Tokenize & normalize (safer)\n",
        "def tokenize_norm(text):\n",
        "    tok = RegexpTokenizer(r\"[A-Za-z0-9]+\")  # keeps alphanumeric runs, drops punctuation\n",
        "    return [t.lower() for t in tok.tokenize(text)]\n",
        "\n",
        "# 2) Remove stopwords\n",
        "def remove_stopwords(toks):\n",
        "    stops = set(stopwords.words(\"english\"))\n",
        "    return [t for t in toks if t not in stops]\n",
        "\n",
        "# 3–4) POS-tag once, then lemmatize\n",
        "def pos_lemmatize(toks):\n",
        "    tags = pos_tag(toks)\n",
        "    lem = WordNetLemmatizer()\n",
        "    return [lem.lemmatize(t, wordnet_pos(tag)) for t, tag in tags]\n",
        "\n",
        "def run_pipeline(text):\n",
        "    toks = tokenize_norm(text)\n",
        "    toks_nostop = remove_stopwords(toks)\n",
        "    clean = pos_lemmatize(toks_nostop)\n",
        "    return toks, toks_nostop, clean\n",
        "\n",
        "# --- Sanity test on an inaugural speech ---\n",
        "from nltk.corpus import inaugural\n",
        "#s1 = inaugural.fileids()[-1]\n",
        "#raw = inaugural.raw(s1)\n",
        "\n",
        "toks, toks_nostop, clean = run_pipeline(raw)\n",
        "print(\"Source:\", \"mytext.txt\")\n",
        "print(\"Counts -> toks:\", len(toks), \"| no-stop:\", len(toks_nostop), \"| clean:\", len(clean))\n",
        "print(\"Top 10 (clean):\", FreqDist(clean).most_common(10))\n",
        "\n",
        "\n",
        "#toks, toks_nostop, clean = run_pipeline(raw)\n",
        "#print(\"Speech:\", s1)\n",
        "#print(\"Counts -> toks:\", len(toks), \"| no-stop:\", len(toks_nostop), \"| clean:\", len(clean))\n",
        "#print(\"Top 10 (clean):\", FreqDist(clean).most_common(10))"
      ],
      "metadata": {
        "id": "drWILZNFg7ns",
        "outputId": "91e398c7-cf90-4c01-d230-4bd8edf5affe",
        "colab": {
          "base_uri": "https://localhost:8080/"
        }
      },
      "id": "drWILZNFg7ns",
      "execution_count": null,
      "outputs": [
        {
          "output_type": "stream",
          "name": "stdout",
          "text": [
            "Source: mytext.txt\n",
            "Counts -> toks: 2938 | no-stop: 1422 | clean: 1422\n",
            "Top 10 (clean): [('thank', 22), ('america', 21), ('nation', 20), ('american', 19), ('country', 17), ('great', 16), ('government', 11), ('state', 10), ('world', 10), ('today', 10)]\n"
          ]
        }
      ]
    },
    {
      "cell_type": "markdown",
      "id": "662866aa",
      "metadata": {
        "id": "662866aa"
      },
      "source": [
        "\n",
        "**Questions:**  \n",
        "1) How many tokens (words) are in your text?  \n",
        "2) List 5 tokens you expected to see. Were they present?\n"
      ]
    },
    {
      "cell_type": "markdown",
      "id": "9c014826",
      "metadata": {
        "id": "9c014826"
      },
      "source": [
        "\n",
        "## Part C — Keyword in Context (10 min)\n",
        "Use *concordance* to see your keywords in context.\n"
      ]
    },
    {
      "cell_type": "code",
      "execution_count": null,
      "id": "21a6358a",
      "metadata": {
        "id": "21a6358a",
        "outputId": "c0e4c39a-d2a7-4205-9366-1aec8c813602",
        "colab": {
          "base_uri": "https://localhost:8080/"
        }
      },
      "outputs": [
        {
          "output_type": "stream",
          "name": "stdout",
          "text": [
            "Displaying 12 of 15 matches:\n",
            "i took office amid two wars an economy rocked by a severe recession a\n",
            "hat promise it begins with our economy our most urgent task upon taki\n",
            " we also took steps to get our economy growing again save as many job\n",
            "ter two years of recession the economy is growing again retirement fu\n",
            "a is not waiting to revamp its economy germany is not waiting india i\n",
            "m interested in protecting our economy a strong healthy financial mar\n",
            "nearly brought down our entire economy we need to make sure consumers\n",
            " risks that threaten the whole economy now the house has already pass\n",
            "afford such changes in a tough economy i know that there are those wh\n",
            "on that leads the clean energy economy will be the nation that leads \n",
            "e nation that leads the global economy and america must be that natio\n",
            "ms to all states still in this economy a high school diploma no longe\n",
            "Displaying 1 of 1 matches:\n",
            "he work of fixing our broken immigration system to secure our borders\n"
          ]
        }
      ],
      "source": [
        "\n",
        "from nltk.text import Text\n",
        "T = Text(tokens)\n",
        "\n",
        "# Try two policy keywords of interest (edit these):\n",
        "T.concordance(\"economy\", width=70, lines=12)\n",
        "T.concordance(\"immigration\", width=70, lines=12)\n"
      ]
    },
    {
      "cell_type": "markdown",
      "id": "d5c80aaf",
      "metadata": {
        "id": "d5c80aaf"
      },
      "source": [
        "\n",
        "**Prompt:** In 2–3 sentences, what do the surrounding words suggest about how these topics are framed?\n"
      ]
    },
    {
      "cell_type": "code",
      "execution_count": null,
      "id": "ff99be15",
      "metadata": {
        "id": "ff99be15",
        "outputId": "2d28f742-fadf-4db8-caca-34cc3743d143",
        "colab": {
          "base_uri": "https://localhost:8080/"
        }
      },
      "outputs": [
        {
          "output_type": "stream",
          "name": "stdout",
          "text": [
            "\n",
            "(Write your brief interpretation here.)\n",
            "\n"
          ]
        }
      ],
      "source": [
        "\n",
        "analysis_notes = \"\"\"\n",
        "(Write your brief interpretation here.)\n",
        "\"\"\"\n",
        "print(analysis_notes)\n"
      ]
    },
    {
      "cell_type": "markdown",
      "id": "a5dfbf37",
      "metadata": {
        "id": "a5dfbf37"
      },
      "source": [
        "\n",
        "## Part D — Dispersion Plot (10 min)\n",
        "Where do topics appear (beginning/middle/end)? Replace terms with 3–5 of your own.\n"
      ]
    },
    {
      "cell_type": "code",
      "source": [
        "toks, toks_nostop, clean = run_pipeline(raw) #Take my raw text, send it through the pipeline, and give me back three versions (toks, toks_nostop, clean)\n",
        "print(\"Speech:\", s1)\n",
        "print(\"Counts -> toks:\", len(toks), \"| no-stop:\", len(toks_nostop), \"| clean:\", len(clean))\n",
        "\n",
        "fdist = FreqDist(clean)\n",
        "print(\"\\nTop 10 most common words (clean):\\n\")\n",
        "\n",
        "for word, count in fdist.most_common(10):\n",
        "    print(f\"{word:>10}   {count}\")"
      ],
      "metadata": {
        "id": "XqFZFh4VlAKf",
        "outputId": "c58416fd-28b0-429c-db5d-a17e9c077ce0",
        "colab": {
          "base_uri": "https://localhost:8080/"
        }
      },
      "id": "XqFZFh4VlAKf",
      "execution_count": null,
      "outputs": [
        {
          "output_type": "stream",
          "name": "stdout",
          "text": [
            "Speech: 2025-Trump.txt\n",
            "Counts -> toks: 2938 | no-stop: 1422 | clean: 1422\n",
            "\n",
            "Top 10 most common words (clean):\n",
            "\n",
            "     thank   22\n",
            "   america   21\n",
            "    nation   20\n",
            "  american   19\n",
            "   country   17\n",
            "     great   16\n",
            "government   11\n",
            "     state   10\n",
            "     world   10\n",
            "     today   10\n"
          ]
        }
      ]
    },
    {
      "cell_type": "code",
      "source": [
        "def lexical_diversity(tokens, n=1000):\n",
        "    # Use first n tokens (or all if shorter). Higher = more variety of vocabulary.\n",
        "    slice_ = tokens[:n] if len(tokens) >= n else tokens\n",
        "    return len(set(slice_)) / max(1, len(slice_))\n",
        "\n",
        "# ✅ Call the function OUTSIDE the definition\n",
        "score = lexical_diversity(clean, n=1000)\n",
        "print(f\"Lexical diversity (first 1000 tokens): {score:.3f}\")\n"
      ],
      "metadata": {
        "id": "u1eFRWyQlHQN",
        "outputId": "8df3c6b4-8cad-42ba-93da-3e337c183dba",
        "colab": {
          "base_uri": "https://localhost:8080/"
        }
      },
      "id": "u1eFRWyQlHQN",
      "execution_count": null,
      "outputs": [
        {
          "output_type": "stream",
          "name": "stdout",
          "text": [
            "Lexical diversity (first 1000 tokens): 0.578\n"
          ]
        }
      ]
    },
    {
      "cell_type": "code",
      "execution_count": null,
      "id": "d213dbeb",
      "metadata": {
        "id": "d213dbeb",
        "outputId": "64bb64fe-0be1-401e-ace7-fa2fce8c0e7b",
        "colab": {
          "base_uri": "https://localhost:8080/",
          "height": 472
        }
      },
      "outputs": [
        {
          "output_type": "display_data",
          "data": {
            "text/plain": [
              "<Figure size 640x480 with 1 Axes>"
            ],
            "image/png": "[encoded data removed]"
          },
          "metadata": {}
        }
      ],
      "source": [
        "\n",
        "# NLTK's dispersion_plot uses matplotlib under the hood\n",
        "T.dispersion_plot([\"economy\", \"war\", \"freedom\", \"security\", \"climate\"])\n"
      ]
    },
    {
      "cell_type": "markdown",
      "id": "f37b8dff",
      "metadata": {
        "id": "f37b8dff"
      },
      "source": [
        "\n",
        "**Prompt:** What patterns do you notice? Why might this matter for policy framing?\n"
      ]
    },
    {
      "cell_type": "code",
      "execution_count": null,
      "id": "611a3062",
      "metadata": {
        "id": "611a3062",
        "outputId": "c77a2794-9502-44d6-9e6e-486a6e754dd9",
        "colab": {
          "base_uri": "https://localhost:8080/"
        }
      },
      "outputs": [
        {
          "output_type": "stream",
          "name": "stdout",
          "text": [
            "\n",
            "(Write your observations here.)\n",
            "\n"
          ]
        }
      ],
      "source": [
        "\n",
        "framing_notes = \"\"\"\n",
        "(Write your observations here.)\n",
        "\"\"\"\n",
        "print(framing_notes)\n"
      ]
    },
    {
      "cell_type": "markdown",
      "id": "215840fc",
      "metadata": {
        "id": "215840fc"
      },
      "source": [
        "\n",
        "## Part E — Lexical Diversity (10 min)\n",
        "Lexical diversity = unique words / total words. Use a fixed slice for fair comparisons.\n"
      ]
    },
    {
      "cell_type": "code",
      "execution_count": null,
      "id": "24ddddea",
      "metadata": {
        "id": "24ddddea",
        "outputId": "f14a33ba-1679-47a7-e688-fdefa6aaae71",
        "colab": {
          "base_uri": "https://localhost:8080/"
        }
      },
      "outputs": [
        {
          "output_type": "stream",
          "name": "stdout",
          "text": [
            "Lexical diversity (all tokens): 0.2188\n",
            "Lexical diversity (first 2,000): 0.3365\n"
          ]
        }
      ],
      "source": [
        "\n",
        "def lexical_diversity(tok_list, n=None):\n",
        "    \"\"\"Return unique/total; if n is provided, compute on first n tokens.\"\"\"\n",
        "    if n:\n",
        "        tok_list = tok_list[:n]\n",
        "    total = len(tok_list) if tok_list else 1\n",
        "    return len(set(tok_list)) / total\n",
        "\n",
        "div_all = lexical_diversity(tokens)\n",
        "div_2k  = lexical_diversity(tokens, 2000)\n",
        "\n",
        "print(\"Lexical diversity (all tokens):\", round(div_all, 4))\n",
        "print(\"Lexical diversity (first 2,000):\", round(div_2k, 4))\n"
      ]
    },
    {
      "cell_type": "markdown",
      "id": "b8e24c2e",
      "metadata": {
        "id": "b8e24c2e"
      },
      "source": [
        "\n",
        "**Why it matters (policy analysis):** Differences in lexical diversity can reflect changes in audience targeting, technicality vs. accessibility, or agenda breadth (e.g., a narrow crisis speech vs. a broad programmatic agenda).  \n",
        "\n",
        "*(Optional)* Compare with a second speech by repeating Part A for another `fileid` and recomputing diversity on the same slice size.\n"
      ]
    },
    {
      "cell_type": "markdown",
      "id": "cc289ee1",
      "metadata": {
        "id": "cc289ee1"
      },
      "source": [
        "\n",
        "## Part F — Reflection (10 min)\n",
        "- Which tool felt most useful for policy analysis (concordance, dispersion, lexical diversity)? Why?  \n",
        "- How could you apply this to a real policy dataset (hearings, legislation, news, social media)?\n"
      ]
    },
    {
      "cell_type": "code",
      "execution_count": null,
      "id": "1ef83bef",
      "metadata": {
        "id": "1ef83bef",
        "outputId": "bb4853f5-f2e7-406f-9bdb-1f90d91fd131",
        "colab": {
          "base_uri": "https://localhost:8080/"
        }
      },
      "outputs": [
        {
          "output_type": "stream",
          "name": "stdout",
          "text": [
            "\n",
            "(Write your brief reflection here.)\n",
            "\n"
          ]
        }
      ],
      "source": [
        "\n",
        "final_reflection = \"\"\"\n",
        "(Write your brief reflection here.)\n",
        "\"\"\"\n",
        "print(final_reflection)\n"
      ]
    },
    {
      "cell_type": "markdown",
      "id": "4a38ee4c",
      "metadata": {
        "id": "4a38ee4c"
      },
      "source": [
        "\n",
        "---\n",
        "## 🚀 Stretch Challenges (Optional)\n",
        "\n",
        "### 1) Collocations (common policy phrases)\n",
        "Find frequently co-occurring word pairs (bigrams). These can reveal informative policy phrases (e.g., *national security*, *climate change*).\n"
      ]
    },
    {
      "cell_type": "code",
      "execution_count": null,
      "id": "ccf4b77b",
      "metadata": {
        "id": "ccf4b77b",
        "outputId": "7acb8f0e-da04-4832-cef5-ab86bf9cf954",
        "colab": {
          "base_uri": "https://localhost:8080/"
        }
      },
      "outputs": [
        {
          "output_type": "execute_result",
          "data": {
            "text/plain": [
              "[('status', 'quo'),\n",
              " ('both', 'parties'),\n",
              " ('civil', 'rights'),\n",
              " ('wall', 'street'),\n",
              " ('cut', 'taxes'),\n",
              " ('united', 'states'),\n",
              " ('bring', 'down'),\n",
              " ('recovery', 'act'),\n",
              " ('tax', 'cuts'),\n",
              " ('two', 'wars'),\n",
              " ('no', 'matter'),\n",
              " ('clean', 'energy'),\n",
              " ('my', 'administration'),\n",
              " ('health', 'care'),\n",
              " ('tax', 'credit')]"
            ]
          },
          "metadata": {},
          "execution_count": 51
        }
      ],
      "source": [
        "\n",
        "from nltk.collocations import BigramAssocMeasures, BigramCollocationFinder\n",
        "\n",
        "# Use a filtered token list (already lowercase & alphabetic)\n",
        "finder = BigramCollocationFinder.from_words(tokens)\n",
        "# Only consider reasonably frequent bigrams (adjust min_freq to taste)\n",
        "finder.apply_freq_filter(3)\n",
        "bigrams_pmi = finder.nbest(BigramAssocMeasures.pmi, 15)\n",
        "bigrams_pmi\n"
      ]
    },
    {
      "cell_type": "markdown",
      "id": "bcc38a52",
      "metadata": {
        "id": "bcc38a52"
      },
      "source": [
        "\n",
        "### 2) VADER sentiment on short snippets\n",
        "Useful for very short statements (tweets, headlines). For long speeches, sentiment averages toward neutral.\n"
      ]
    },
    {
      "cell_type": "code",
      "execution_count": null,
      "id": "e0ee8fde",
      "metadata": {
        "id": "e0ee8fde",
        "outputId": "edb95428-6adb-4565-e775-15237fb22dd5",
        "colab": {
          "base_uri": "https://localhost:8080/"
        }
      },
      "outputs": [
        {
          "output_type": "stream",
          "name": "stdout",
          "text": [
            "We will rebuild our economy and create jobs. -> {'neg': 0.0, 'neu': 0.769, 'pos': 0.231, 'compound': 0.2732}\n",
            "War brings hardship and loss. -> {'neg': 0.81, 'neu': 0.19, 'pos': 0.0, 'compound': -0.8176}\n",
            "Together we can protect our freedoms. -> {'neg': 0.0, 'neu': 0.455, 'pos': 0.545, 'compound': 0.5859}\n"
          ]
        }
      ],
      "source": [
        "\n",
        "# VADER is in nltk.sentiment\n",
        "nltk.download('vader_lexicon', quiet=True)\n",
        "from nltk.sentiment import SentimentIntensityAnalyzer\n",
        "\n",
        "sia = SentimentIntensityAnalyzer()\n",
        "\n",
        "samples = [\n",
        "    \"We will rebuild our economy and create jobs.\",\n",
        "    \"War brings hardship and loss.\",\n",
        "    \"Together we can protect our freedoms.\"\n",
        "]\n",
        "\n",
        "for s in samples:\n",
        "    print(s, \"->\", sia.polarity_scores(s))\n"
      ]
    },
    {
      "cell_type": "markdown",
      "id": "f3478974",
      "metadata": {
        "id": "f3478974"
      },
      "source": [
        "\n",
        "### 3) Compare two texts (quick)\n",
        "Repick another `fileid` and compute lexical diversity on the same slice (e.g., 2,000 tokens). What differences do you see?\n"
      ]
    },
    {
      "cell_type": "code",
      "execution_count": null,
      "id": "5a6c18f2",
      "metadata": {
        "id": "5a6c18f2"
      },
      "outputs": [],
      "source": [
        "\n",
        "# Example scaffold:\n",
        "# s2 = fileids[-1]\n",
        "# raw2 = inaugural.raw(s2)\n",
        "# tokens2 = [w.lower() for w in word_tokenize(raw2) if w.isalpha()]\n",
        "# print(\"A:\", s1, \"div(2k) =\", round(lexical_diversity(tokens, 2000), 4))\n",
        "# print(\"B:\", s2, \"div(2k) =\", round(lexical_diversity(tokens2, 2000), 4))\n"
      ]
    },
    {
      "cell_type": "markdown",
      "id": "b32b9bbe",
      "metadata": {
        "id": "b32b9bbe"
      },
      "source": [
        "\n",
        "### 4) Quick frequency table + matplotlib bar chart\n",
        "Show top 15 tokens (after simple cleaning). *Keep charts simple and readable.*\n"
      ]
    },
    {
      "cell_type": "code",
      "execution_count": null,
      "id": "1d139120",
      "metadata": {
        "id": "1d139120",
        "outputId": "eacba86d-9b62-4748-bea9-8ce32c89747a",
        "colab": {
          "base_uri": "https://localhost:8080/",
          "height": 443
        }
      },
      "outputs": [
        {
          "output_type": "stream",
          "name": "stderr",
          "text": [
            "[nltk_data] Downloading package stopwords to /root/nltk_data...\n",
            "[nltk_data]   Package stopwords is already up-to-date!\n"
          ]
        },
        {
          "output_type": "display_data",
          "data": {
            "text/plain": [
              "<Figure size 1000x400 with 1 Axes>"
            ],
            "image/png": "[encoded data removed]"
          },
          "metadata": {}
        }
      ],
      "source": [
        "\n",
        "# Make sure stopwords are available\n",
        "nltk.download('stopwords')\n",
        "\n",
        "# Create stopword set once\n",
        "stops = set(stopwords.words('english'))\n",
        "# Remove \"applause\"\n",
        "custom_stops = {\"applause\", \"(applause)\"}\n",
        "stops.update(custom_stops)\n",
        "\n",
        "# Filter tokens: only keep those NOT in the stopword list\n",
        "filtered_tokens = [t for t in tokens if t not in stops]\n",
        "\n",
        "# Compute frequency distribution\n",
        "fd = FreqDist(filtered_tokens)\n",
        "top = fd.most_common(15)\n",
        "\n",
        "# Plot\n",
        "labels, counts = zip(*top)\n",
        "plt.figure(figsize=(10,4))\n",
        "plt.bar(range(len(labels)), counts)\n",
        "plt.xticks(range(len(labels)), labels, rotation=45, ha='right')\n",
        "plt.title(\"Top 15 Tokens\")\n",
        "plt.tight_layout()\n",
        "plt.show()\n",
        "\n",
        "#------------------------\n",
        "\n",
        "#from nltk import FreqDist\n",
        "#import matplotlib.pyplot as plt\n",
        "\n",
        "#fd = FreqDist(tokens)\n",
        "#top = fd.most_common(15)\n",
        "\n",
        "#labels, counts = zip(*top)\n",
        "#plt.figure(figsize=(10,4))\n",
        "#plt.bar(range(len(labels)), counts)\n",
        "#plt.xticks(range(len(labels)), labels, rotation=45, ha='right')\n",
        "#plt.title(\"Top 15 tokens\")\n",
        "#plt.tight_layout()\n",
        "#plt.show()\n"
      ]
    }
  ],
  "metadata": {
    "colab": {
      "provenance": [],
      "include_colab_link": true
    },
    "language_info": {
      "name": "python"
    },
    "kernelspec": {
      "name": "python3",
      "display_name": "Python 3"
    }
  },
  "nbformat": 4,
  "nbformat_minor": 5
}